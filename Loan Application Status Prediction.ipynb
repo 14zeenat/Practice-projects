{
 "cells": [
  {
   "cell_type": "markdown",
   "id": "7409aa4d",
   "metadata": {},
   "source": [
    "# Loan Application Status Prediction\n",
    "### Project Description\n",
    "This dataset includes details of applicants who have applied for loan. The dataset includes details like credit history, loan amount, their income, dependents etc.                \n",
    "\n",
    "Independent Variables:           \n",
    "1.\tLoan_ID - This refer to the unique identifier of the applicant's affirmed purchases\n",
    "2.\tGender - This refers to either of the two main categories (male and female) into which applicants are divided on the basis of their reproductive functions\n",
    "3.\tMarried - This refers to applicant being in a state of matrimony\n",
    "4.\tDependents - This refres to persons who depends on the applicants for survival\n",
    "5.\tEducation - This refers to number of years in which applicant received systematic instruction, especially at a school or university\n",
    "6.\tSelf_Employed - This refers to applicant working for oneself as a freelancer or the owner of a business rather than for an employer\n",
    "7.\tApplicant Income - This refers to disposable income available for the applicant's use under State law.\n",
    "8.\tCoapplicantIncome - This refers to disposable income available for the people that participate in the loan application process alongside the main applicant use under State law.\n",
    "9.\tLoan_Amount - This refers to the amount of money an applicant owe at any given time.\n",
    "10.\tLoan_Amount_Term - This refers to the duaration in which the loan is availed to the applicant\n",
    "11.\tCredit History - This refers to a record of applicant's ability to repay debts and demonstrated responsibility in repaying them.\n",
    "12.\tProperty_Area - This refers to the total area within the boundaries of the property as set out in Schedule.\n",
    "13.\tLoan_Status - This refres to whether applicant is eligible to be availed the Loan requested. \n",
    "\n",
    "You have to build a model that can predict whether the loan of the applicant will be approved(Loan_status) or not on the basis of the details provided in the dataset. \n"
   ]
  },
  {
   "cell_type": "code",
   "execution_count": null,
   "id": "4255bdee",
   "metadata": {},
   "outputs": [],
   "source": []
  },
  {
   "cell_type": "code",
   "execution_count": 1,
   "id": "3e5befa0",
   "metadata": {},
   "outputs": [],
   "source": [
    "# importing required libraries\n",
    "import pandas as pd\n",
    "import numpy as np\n",
    "import matplotlib.pyplot as plt\n",
    "import seaborn as sns\n",
    "\n",
    "import warnings\n",
    "warnings.filterwarnings('ignore')"
   ]
  },
  {
   "cell_type": "code",
   "execution_count": 2,
   "id": "37163328",
   "metadata": {},
   "outputs": [
    {
     "data": {
      "text/html": [
       "<div>\n",
       "<style scoped>\n",
       "    .dataframe tbody tr th:only-of-type {\n",
       "        vertical-align: middle;\n",
       "    }\n",
       "\n",
       "    .dataframe tbody tr th {\n",
       "        vertical-align: top;\n",
       "    }\n",
       "\n",
       "    .dataframe thead th {\n",
       "        text-align: right;\n",
       "    }\n",
       "</style>\n",
       "<table border=\"1\" class=\"dataframe\">\n",
       "  <thead>\n",
       "    <tr style=\"text-align: right;\">\n",
       "      <th></th>\n",
       "      <th>Loan_ID</th>\n",
       "      <th>Gender</th>\n",
       "      <th>Married</th>\n",
       "      <th>Dependents</th>\n",
       "      <th>Education</th>\n",
       "      <th>Self_Employed</th>\n",
       "      <th>ApplicantIncome</th>\n",
       "      <th>CoapplicantIncome</th>\n",
       "      <th>LoanAmount</th>\n",
       "      <th>Loan_Amount_Term</th>\n",
       "      <th>Credit_History</th>\n",
       "      <th>Property_Area</th>\n",
       "      <th>Loan_Status</th>\n",
       "    </tr>\n",
       "  </thead>\n",
       "  <tbody>\n",
       "    <tr>\n",
       "      <th>0</th>\n",
       "      <td>LP001002</td>\n",
       "      <td>Male</td>\n",
       "      <td>No</td>\n",
       "      <td>0</td>\n",
       "      <td>Graduate</td>\n",
       "      <td>No</td>\n",
       "      <td>5849</td>\n",
       "      <td>0.0</td>\n",
       "      <td>NaN</td>\n",
       "      <td>360.0</td>\n",
       "      <td>1.0</td>\n",
       "      <td>Urban</td>\n",
       "      <td>Y</td>\n",
       "    </tr>\n",
       "    <tr>\n",
       "      <th>1</th>\n",
       "      <td>LP001003</td>\n",
       "      <td>Male</td>\n",
       "      <td>Yes</td>\n",
       "      <td>1</td>\n",
       "      <td>Graduate</td>\n",
       "      <td>No</td>\n",
       "      <td>4583</td>\n",
       "      <td>1508.0</td>\n",
       "      <td>128.0</td>\n",
       "      <td>360.0</td>\n",
       "      <td>1.0</td>\n",
       "      <td>Rural</td>\n",
       "      <td>N</td>\n",
       "    </tr>\n",
       "    <tr>\n",
       "      <th>2</th>\n",
       "      <td>LP001005</td>\n",
       "      <td>Male</td>\n",
       "      <td>Yes</td>\n",
       "      <td>0</td>\n",
       "      <td>Graduate</td>\n",
       "      <td>Yes</td>\n",
       "      <td>3000</td>\n",
       "      <td>0.0</td>\n",
       "      <td>66.0</td>\n",
       "      <td>360.0</td>\n",
       "      <td>1.0</td>\n",
       "      <td>Urban</td>\n",
       "      <td>Y</td>\n",
       "    </tr>\n",
       "    <tr>\n",
       "      <th>3</th>\n",
       "      <td>LP001006</td>\n",
       "      <td>Male</td>\n",
       "      <td>Yes</td>\n",
       "      <td>0</td>\n",
       "      <td>Not Graduate</td>\n",
       "      <td>No</td>\n",
       "      <td>2583</td>\n",
       "      <td>2358.0</td>\n",
       "      <td>120.0</td>\n",
       "      <td>360.0</td>\n",
       "      <td>1.0</td>\n",
       "      <td>Urban</td>\n",
       "      <td>Y</td>\n",
       "    </tr>\n",
       "    <tr>\n",
       "      <th>4</th>\n",
       "      <td>LP001008</td>\n",
       "      <td>Male</td>\n",
       "      <td>No</td>\n",
       "      <td>0</td>\n",
       "      <td>Graduate</td>\n",
       "      <td>No</td>\n",
       "      <td>6000</td>\n",
       "      <td>0.0</td>\n",
       "      <td>141.0</td>\n",
       "      <td>360.0</td>\n",
       "      <td>1.0</td>\n",
       "      <td>Urban</td>\n",
       "      <td>Y</td>\n",
       "    </tr>\n",
       "    <tr>\n",
       "      <th>...</th>\n",
       "      <td>...</td>\n",
       "      <td>...</td>\n",
       "      <td>...</td>\n",
       "      <td>...</td>\n",
       "      <td>...</td>\n",
       "      <td>...</td>\n",
       "      <td>...</td>\n",
       "      <td>...</td>\n",
       "      <td>...</td>\n",
       "      <td>...</td>\n",
       "      <td>...</td>\n",
       "      <td>...</td>\n",
       "      <td>...</td>\n",
       "    </tr>\n",
       "    <tr>\n",
       "      <th>609</th>\n",
       "      <td>LP002978</td>\n",
       "      <td>Female</td>\n",
       "      <td>No</td>\n",
       "      <td>0</td>\n",
       "      <td>Graduate</td>\n",
       "      <td>No</td>\n",
       "      <td>2900</td>\n",
       "      <td>0.0</td>\n",
       "      <td>71.0</td>\n",
       "      <td>360.0</td>\n",
       "      <td>1.0</td>\n",
       "      <td>Rural</td>\n",
       "      <td>Y</td>\n",
       "    </tr>\n",
       "    <tr>\n",
       "      <th>610</th>\n",
       "      <td>LP002979</td>\n",
       "      <td>Male</td>\n",
       "      <td>Yes</td>\n",
       "      <td>3+</td>\n",
       "      <td>Graduate</td>\n",
       "      <td>No</td>\n",
       "      <td>4106</td>\n",
       "      <td>0.0</td>\n",
       "      <td>40.0</td>\n",
       "      <td>180.0</td>\n",
       "      <td>1.0</td>\n",
       "      <td>Rural</td>\n",
       "      <td>Y</td>\n",
       "    </tr>\n",
       "    <tr>\n",
       "      <th>611</th>\n",
       "      <td>LP002983</td>\n",
       "      <td>Male</td>\n",
       "      <td>Yes</td>\n",
       "      <td>1</td>\n",
       "      <td>Graduate</td>\n",
       "      <td>No</td>\n",
       "      <td>8072</td>\n",
       "      <td>240.0</td>\n",
       "      <td>253.0</td>\n",
       "      <td>360.0</td>\n",
       "      <td>1.0</td>\n",
       "      <td>Urban</td>\n",
       "      <td>Y</td>\n",
       "    </tr>\n",
       "    <tr>\n",
       "      <th>612</th>\n",
       "      <td>LP002984</td>\n",
       "      <td>Male</td>\n",
       "      <td>Yes</td>\n",
       "      <td>2</td>\n",
       "      <td>Graduate</td>\n",
       "      <td>No</td>\n",
       "      <td>7583</td>\n",
       "      <td>0.0</td>\n",
       "      <td>187.0</td>\n",
       "      <td>360.0</td>\n",
       "      <td>1.0</td>\n",
       "      <td>Urban</td>\n",
       "      <td>Y</td>\n",
       "    </tr>\n",
       "    <tr>\n",
       "      <th>613</th>\n",
       "      <td>LP002990</td>\n",
       "      <td>Female</td>\n",
       "      <td>No</td>\n",
       "      <td>0</td>\n",
       "      <td>Graduate</td>\n",
       "      <td>Yes</td>\n",
       "      <td>4583</td>\n",
       "      <td>0.0</td>\n",
       "      <td>133.0</td>\n",
       "      <td>360.0</td>\n",
       "      <td>0.0</td>\n",
       "      <td>Semiurban</td>\n",
       "      <td>N</td>\n",
       "    </tr>\n",
       "  </tbody>\n",
       "</table>\n",
       "<p>614 rows × 13 columns</p>\n",
       "</div>"
      ],
      "text/plain": [
       "      Loan_ID  Gender Married Dependents     Education Self_Employed  \\\n",
       "0    LP001002    Male      No          0      Graduate            No   \n",
       "1    LP001003    Male     Yes          1      Graduate            No   \n",
       "2    LP001005    Male     Yes          0      Graduate           Yes   \n",
       "3    LP001006    Male     Yes          0  Not Graduate            No   \n",
       "4    LP001008    Male      No          0      Graduate            No   \n",
       "..        ...     ...     ...        ...           ...           ...   \n",
       "609  LP002978  Female      No          0      Graduate            No   \n",
       "610  LP002979    Male     Yes         3+      Graduate            No   \n",
       "611  LP002983    Male     Yes          1      Graduate            No   \n",
       "612  LP002984    Male     Yes          2      Graduate            No   \n",
       "613  LP002990  Female      No          0      Graduate           Yes   \n",
       "\n",
       "     ApplicantIncome  CoapplicantIncome  LoanAmount  Loan_Amount_Term  \\\n",
       "0               5849                0.0         NaN             360.0   \n",
       "1               4583             1508.0       128.0             360.0   \n",
       "2               3000                0.0        66.0             360.0   \n",
       "3               2583             2358.0       120.0             360.0   \n",
       "4               6000                0.0       141.0             360.0   \n",
       "..               ...                ...         ...               ...   \n",
       "609             2900                0.0        71.0             360.0   \n",
       "610             4106                0.0        40.0             180.0   \n",
       "611             8072              240.0       253.0             360.0   \n",
       "612             7583                0.0       187.0             360.0   \n",
       "613             4583                0.0       133.0             360.0   \n",
       "\n",
       "     Credit_History Property_Area Loan_Status  \n",
       "0               1.0         Urban           Y  \n",
       "1               1.0         Rural           N  \n",
       "2               1.0         Urban           Y  \n",
       "3               1.0         Urban           Y  \n",
       "4               1.0         Urban           Y  \n",
       "..              ...           ...         ...  \n",
       "609             1.0         Rural           Y  \n",
       "610             1.0         Rural           Y  \n",
       "611             1.0         Urban           Y  \n",
       "612             1.0         Urban           Y  \n",
       "613             0.0     Semiurban           N  \n",
       "\n",
       "[614 rows x 13 columns]"
      ]
     },
     "execution_count": 2,
     "metadata": {},
     "output_type": "execute_result"
    }
   ],
   "source": [
    "# reading data\n",
    "df = pd.read_csv('loan_prediction.csv')\n",
    "df"
   ]
  },
  {
   "cell_type": "markdown",
   "id": "b0ab80b9",
   "metadata": {},
   "source": [
    "### Exploratory Data Analysis (EDA)"
   ]
  },
  {
   "cell_type": "code",
   "execution_count": 3,
   "id": "b8500454",
   "metadata": {
    "scrolled": true
   },
   "outputs": [
    {
     "data": {
      "text/plain": [
       "(614, 13)"
      ]
     },
     "execution_count": 3,
     "metadata": {},
     "output_type": "execute_result"
    }
   ],
   "source": [
    "# checking data shape\n",
    "df.shape"
   ]
  },
  {
   "cell_type": "markdown",
   "id": "5ce1d2da",
   "metadata": {},
   "source": [
    "Our dataset has 614 rows and 13 columns"
   ]
  },
  {
   "cell_type": "code",
   "execution_count": 4,
   "id": "f1b9db52",
   "metadata": {
    "scrolled": true
   },
   "outputs": [
    {
     "data": {
      "text/plain": [
       "Loan_ID               object\n",
       "Gender                object\n",
       "Married               object\n",
       "Dependents            object\n",
       "Education             object\n",
       "Self_Employed         object\n",
       "ApplicantIncome        int64\n",
       "CoapplicantIncome    float64\n",
       "LoanAmount           float64\n",
       "Loan_Amount_Term     float64\n",
       "Credit_History       float64\n",
       "Property_Area         object\n",
       "Loan_Status           object\n",
       "dtype: object"
      ]
     },
     "execution_count": 4,
     "metadata": {},
     "output_type": "execute_result"
    }
   ],
   "source": [
    "# checking data type\n",
    "df.dtypes"
   ]
  },
  {
   "cell_type": "markdown",
   "id": "1897a899",
   "metadata": {},
   "source": [
    "Columns data types are object, int64 and float64."
   ]
  },
  {
   "cell_type": "code",
   "execution_count": 5,
   "id": "5383210f",
   "metadata": {},
   "outputs": [
    {
     "name": "stdout",
     "output_type": "stream",
     "text": [
      "Duplicate rows = 0\n",
      "No duplicate rows present in the dataset.\n"
     ]
    }
   ],
   "source": [
    "# checking duplicate data\n",
    "print('Duplicate rows =',df.duplicated().sum())\n",
    "if df.duplicated().sum()!=0:\n",
    "    print(df.duplicated().sum(),'duplicate rows present in the dataset.')\n",
    "else:\n",
    "    print('No duplicate rows present in the dataset.')    "
   ]
  },
  {
   "cell_type": "code",
   "execution_count": 6,
   "id": "c37dcd6a",
   "metadata": {
    "scrolled": false
   },
   "outputs": [
    {
     "name": "stdout",
     "output_type": "stream",
     "text": [
      "\n",
      "Total unique values in Loan_ID column - 614 \n",
      "\n",
      "LP001002    1\n",
      "LP002328    1\n",
      "LP002305    1\n",
      "LP002308    1\n",
      "LP002314    1\n",
      "           ..\n",
      "LP001692    1\n",
      "LP001693    1\n",
      "LP001698    1\n",
      "LP001699    1\n",
      "LP002990    1\n",
      "Name: Loan_ID, Length: 614, dtype: int64\n",
      "\n",
      "Missing values present in Loan_ID column - 0\n",
      "missing values percentage 0.0 %\n",
      "__________________________________________________\n",
      "\n",
      "Total unique values in Gender column - 2 \n",
      "\n",
      "Male      489\n",
      "Female    112\n",
      "Name: Gender, dtype: int64\n",
      "\n",
      "Missing values present in Gender column - 13\n",
      "missing values percentage 2.12 %\n",
      "__________________________________________________\n",
      "\n",
      "Total unique values in Married column - 2 \n",
      "\n",
      "Yes    398\n",
      "No     213\n",
      "Name: Married, dtype: int64\n",
      "\n",
      "Missing values present in Married column - 3\n",
      "missing values percentage 0.49 %\n",
      "__________________________________________________\n",
      "\n",
      "Total unique values in Dependents column - 4 \n",
      "\n",
      "0     345\n",
      "1     102\n",
      "2     101\n",
      "3+     51\n",
      "Name: Dependents, dtype: int64\n",
      "\n",
      "Missing values present in Dependents column - 15\n",
      "missing values percentage 2.44 %\n",
      "__________________________________________________\n",
      "\n",
      "Total unique values in Education column - 2 \n",
      "\n",
      "Graduate        480\n",
      "Not Graduate    134\n",
      "Name: Education, dtype: int64\n",
      "\n",
      "Missing values present in Education column - 0\n",
      "missing values percentage 0.0 %\n",
      "__________________________________________________\n",
      "\n",
      "Total unique values in Self_Employed column - 2 \n",
      "\n",
      "No     500\n",
      "Yes     82\n",
      "Name: Self_Employed, dtype: int64\n",
      "\n",
      "Missing values present in Self_Employed column - 32\n",
      "missing values percentage 5.21 %\n",
      "__________________________________________________\n",
      "\n",
      "Total unique values in ApplicantIncome column - 505 \n",
      "\n",
      "2500    9\n",
      "4583    6\n",
      "6000    6\n",
      "2600    6\n",
      "3333    5\n",
      "       ..\n",
      "3244    1\n",
      "4408    1\n",
      "3917    1\n",
      "3992    1\n",
      "7583    1\n",
      "Name: ApplicantIncome, Length: 505, dtype: int64\n",
      "\n",
      "Missing values present in ApplicantIncome column - 0\n",
      "missing values percentage 0.0 %\n",
      "__________________________________________________\n",
      "\n",
      "Total unique values in CoapplicantIncome column - 287 \n",
      "\n",
      "0.0       273\n",
      "2500.0      5\n",
      "2083.0      5\n",
      "1666.0      5\n",
      "2250.0      3\n",
      "         ... \n",
      "2791.0      1\n",
      "1010.0      1\n",
      "1695.0      1\n",
      "2598.0      1\n",
      "240.0       1\n",
      "Name: CoapplicantIncome, Length: 287, dtype: int64\n",
      "\n",
      "Missing values present in CoapplicantIncome column - 0\n",
      "missing values percentage 0.0 %\n",
      "__________________________________________________\n",
      "\n",
      "Total unique values in LoanAmount column - 203 \n",
      "\n",
      "120.0    20\n",
      "110.0    17\n",
      "100.0    15\n",
      "160.0    12\n",
      "187.0    12\n",
      "         ..\n",
      "240.0     1\n",
      "214.0     1\n",
      "59.0      1\n",
      "166.0     1\n",
      "253.0     1\n",
      "Name: LoanAmount, Length: 203, dtype: int64\n",
      "\n",
      "Missing values present in LoanAmount column - 22\n",
      "missing values percentage 3.58 %\n",
      "__________________________________________________\n",
      "\n",
      "Total unique values in Loan_Amount_Term column - 10 \n",
      "\n",
      "360.0    512\n",
      "180.0     44\n",
      "480.0     15\n",
      "300.0     13\n",
      "240.0      4\n",
      "84.0       4\n",
      "120.0      3\n",
      "60.0       2\n",
      "36.0       2\n",
      "12.0       1\n",
      "Name: Loan_Amount_Term, dtype: int64\n",
      "\n",
      "Missing values present in Loan_Amount_Term column - 14\n",
      "missing values percentage 2.28 %\n",
      "__________________________________________________\n",
      "\n",
      "Total unique values in Credit_History column - 2 \n",
      "\n",
      "1.0    475\n",
      "0.0     89\n",
      "Name: Credit_History, dtype: int64\n",
      "\n",
      "Missing values present in Credit_History column - 50\n",
      "missing values percentage 8.14 %\n",
      "__________________________________________________\n",
      "\n",
      "Total unique values in Property_Area column - 3 \n",
      "\n",
      "Semiurban    233\n",
      "Urban        202\n",
      "Rural        179\n",
      "Name: Property_Area, dtype: int64\n",
      "\n",
      "Missing values present in Property_Area column - 0\n",
      "missing values percentage 0.0 %\n",
      "__________________________________________________\n",
      "\n",
      "Total unique values in Loan_Status column - 2 \n",
      "\n",
      "Y    422\n",
      "N    192\n",
      "Name: Loan_Status, dtype: int64\n",
      "\n",
      "Missing values present in Loan_Status column - 0\n",
      "missing values percentage 0.0 %\n",
      "__________________________________________________\n"
     ]
    }
   ],
   "source": [
    "# value count and missing values\n",
    "for i in df.columns:\n",
    "    print('\\nTotal unique values in',i,'column -',df[i].nunique(),'\\n')\n",
    "    print(df[i].value_counts())\n",
    "    print('\\nMissing values present in',i,'column -',df[i].isnull().sum())\n",
    "    print('missing values percentage',((df[i].isnull().sum()/df.shape[0])*100).round(2),'%')\n",
    "    print('_'*50)"
   ]
  },
  {
   "cell_type": "markdown",
   "id": "c46867c8",
   "metadata": {},
   "source": [
    "1) Loan_ID column is the identifier. we will remove it later.                                                               \n",
    "2) Gender, Married, Dependents, Self_Employed, LoanAmount, Loan_Amount_Term and Credit_History have null values.                \n",
    "3) Loan_Status is the target variable. It contains two unique values Y and N. y is 68.7% of data and N is 31.3% of data.         \n",
    "4) Credit_History contains categorical type of data. It has two values 0.0 and 0.1."
   ]
  },
  {
   "cell_type": "code",
   "execution_count": 7,
   "id": "ec4c5f46",
   "metadata": {},
   "outputs": [],
   "source": [
    "# dropping Loan_ID column \n",
    "df.drop('Loan_ID',axis=1,inplace=True)"
   ]
  },
  {
   "cell_type": "code",
   "execution_count": 8,
   "id": "9f808aed",
   "metadata": {},
   "outputs": [
    {
     "name": "stdout",
     "output_type": "stream",
     "text": [
      "<class 'pandas.core.frame.DataFrame'>\n",
      "RangeIndex: 614 entries, 0 to 613\n",
      "Data columns (total 12 columns):\n",
      " #   Column             Non-Null Count  Dtype  \n",
      "---  ------             --------------  -----  \n",
      " 0   Gender             601 non-null    object \n",
      " 1   Married            611 non-null    object \n",
      " 2   Dependents         599 non-null    object \n",
      " 3   Education          614 non-null    object \n",
      " 4   Self_Employed      582 non-null    object \n",
      " 5   ApplicantIncome    614 non-null    int64  \n",
      " 6   CoapplicantIncome  614 non-null    float64\n",
      " 7   LoanAmount         592 non-null    float64\n",
      " 8   Loan_Amount_Term   600 non-null    float64\n",
      " 9   Credit_History     564 non-null    float64\n",
      " 10  Property_Area      614 non-null    object \n",
      " 11  Loan_Status        614 non-null    object \n",
      "dtypes: float64(4), int64(1), object(7)\n",
      "memory usage: 57.7+ KB\n"
     ]
    }
   ],
   "source": [
    "# checking info\n",
    "df.info()"
   ]
  },
  {
   "cell_type": "markdown",
   "id": "e1550de1",
   "metadata": {},
   "source": [
    "Loan_ID column is removed. Now we have 614 rows and 12 columns. Some columns have null values."
   ]
  },
  {
   "cell_type": "code",
   "execution_count": 9,
   "id": "00e7c7d7",
   "metadata": {
    "scrolled": true
   },
   "outputs": [
    {
     "data": {
      "text/html": [
       "<div>\n",
       "<style scoped>\n",
       "    .dataframe tbody tr th:only-of-type {\n",
       "        vertical-align: middle;\n",
       "    }\n",
       "\n",
       "    .dataframe tbody tr th {\n",
       "        vertical-align: top;\n",
       "    }\n",
       "\n",
       "    .dataframe thead th {\n",
       "        text-align: right;\n",
       "    }\n",
       "</style>\n",
       "<table border=\"1\" class=\"dataframe\">\n",
       "  <thead>\n",
       "    <tr style=\"text-align: right;\">\n",
       "      <th></th>\n",
       "      <th>ApplicantIncome</th>\n",
       "      <th>CoapplicantIncome</th>\n",
       "      <th>LoanAmount</th>\n",
       "      <th>Loan_Amount_Term</th>\n",
       "      <th>Credit_History</th>\n",
       "    </tr>\n",
       "  </thead>\n",
       "  <tbody>\n",
       "    <tr>\n",
       "      <th>count</th>\n",
       "      <td>614.000000</td>\n",
       "      <td>614.000000</td>\n",
       "      <td>592.000000</td>\n",
       "      <td>600.00000</td>\n",
       "      <td>564.000000</td>\n",
       "    </tr>\n",
       "    <tr>\n",
       "      <th>mean</th>\n",
       "      <td>5403.459283</td>\n",
       "      <td>1621.245798</td>\n",
       "      <td>146.412162</td>\n",
       "      <td>342.00000</td>\n",
       "      <td>0.842199</td>\n",
       "    </tr>\n",
       "    <tr>\n",
       "      <th>std</th>\n",
       "      <td>6109.041673</td>\n",
       "      <td>2926.248369</td>\n",
       "      <td>85.587325</td>\n",
       "      <td>65.12041</td>\n",
       "      <td>0.364878</td>\n",
       "    </tr>\n",
       "    <tr>\n",
       "      <th>min</th>\n",
       "      <td>150.000000</td>\n",
       "      <td>0.000000</td>\n",
       "      <td>9.000000</td>\n",
       "      <td>12.00000</td>\n",
       "      <td>0.000000</td>\n",
       "    </tr>\n",
       "    <tr>\n",
       "      <th>25%</th>\n",
       "      <td>2877.500000</td>\n",
       "      <td>0.000000</td>\n",
       "      <td>100.000000</td>\n",
       "      <td>360.00000</td>\n",
       "      <td>1.000000</td>\n",
       "    </tr>\n",
       "    <tr>\n",
       "      <th>50%</th>\n",
       "      <td>3812.500000</td>\n",
       "      <td>1188.500000</td>\n",
       "      <td>128.000000</td>\n",
       "      <td>360.00000</td>\n",
       "      <td>1.000000</td>\n",
       "    </tr>\n",
       "    <tr>\n",
       "      <th>75%</th>\n",
       "      <td>5795.000000</td>\n",
       "      <td>2297.250000</td>\n",
       "      <td>168.000000</td>\n",
       "      <td>360.00000</td>\n",
       "      <td>1.000000</td>\n",
       "    </tr>\n",
       "    <tr>\n",
       "      <th>max</th>\n",
       "      <td>81000.000000</td>\n",
       "      <td>41667.000000</td>\n",
       "      <td>700.000000</td>\n",
       "      <td>480.00000</td>\n",
       "      <td>1.000000</td>\n",
       "    </tr>\n",
       "  </tbody>\n",
       "</table>\n",
       "</div>"
      ],
      "text/plain": [
       "       ApplicantIncome  CoapplicantIncome  LoanAmount  Loan_Amount_Term  \\\n",
       "count       614.000000         614.000000  592.000000         600.00000   \n",
       "mean       5403.459283        1621.245798  146.412162         342.00000   \n",
       "std        6109.041673        2926.248369   85.587325          65.12041   \n",
       "min         150.000000           0.000000    9.000000          12.00000   \n",
       "25%        2877.500000           0.000000  100.000000         360.00000   \n",
       "50%        3812.500000        1188.500000  128.000000         360.00000   \n",
       "75%        5795.000000        2297.250000  168.000000         360.00000   \n",
       "max       81000.000000       41667.000000  700.000000         480.00000   \n",
       "\n",
       "       Credit_History  \n",
       "count      564.000000  \n",
       "mean         0.842199  \n",
       "std          0.364878  \n",
       "min          0.000000  \n",
       "25%          1.000000  \n",
       "50%          1.000000  \n",
       "75%          1.000000  \n",
       "max          1.000000  "
      ]
     },
     "execution_count": 9,
     "metadata": {},
     "output_type": "execute_result"
    }
   ],
   "source": [
    "# statistical description\n",
    "df.describe()"
   ]
  },
  {
   "cell_type": "code",
   "execution_count": 10,
   "id": "7a6c7d97",
   "metadata": {},
   "outputs": [
    {
     "data": {
      "text/html": [
       "<div>\n",
       "<style scoped>\n",
       "    .dataframe tbody tr th:only-of-type {\n",
       "        vertical-align: middle;\n",
       "    }\n",
       "\n",
       "    .dataframe tbody tr th {\n",
       "        vertical-align: top;\n",
       "    }\n",
       "\n",
       "    .dataframe thead th {\n",
       "        text-align: right;\n",
       "    }\n",
       "</style>\n",
       "<table border=\"1\" class=\"dataframe\">\n",
       "  <thead>\n",
       "    <tr style=\"text-align: right;\">\n",
       "      <th></th>\n",
       "      <th>Gender</th>\n",
       "      <th>Married</th>\n",
       "      <th>Dependents</th>\n",
       "      <th>Education</th>\n",
       "      <th>Self_Employed</th>\n",
       "      <th>Property_Area</th>\n",
       "      <th>Loan_Status</th>\n",
       "    </tr>\n",
       "  </thead>\n",
       "  <tbody>\n",
       "    <tr>\n",
       "      <th>count</th>\n",
       "      <td>601</td>\n",
       "      <td>611</td>\n",
       "      <td>599</td>\n",
       "      <td>614</td>\n",
       "      <td>582</td>\n",
       "      <td>614</td>\n",
       "      <td>614</td>\n",
       "    </tr>\n",
       "    <tr>\n",
       "      <th>unique</th>\n",
       "      <td>2</td>\n",
       "      <td>2</td>\n",
       "      <td>4</td>\n",
       "      <td>2</td>\n",
       "      <td>2</td>\n",
       "      <td>3</td>\n",
       "      <td>2</td>\n",
       "    </tr>\n",
       "    <tr>\n",
       "      <th>top</th>\n",
       "      <td>Male</td>\n",
       "      <td>Yes</td>\n",
       "      <td>0</td>\n",
       "      <td>Graduate</td>\n",
       "      <td>No</td>\n",
       "      <td>Semiurban</td>\n",
       "      <td>Y</td>\n",
       "    </tr>\n",
       "    <tr>\n",
       "      <th>freq</th>\n",
       "      <td>489</td>\n",
       "      <td>398</td>\n",
       "      <td>345</td>\n",
       "      <td>480</td>\n",
       "      <td>500</td>\n",
       "      <td>233</td>\n",
       "      <td>422</td>\n",
       "    </tr>\n",
       "  </tbody>\n",
       "</table>\n",
       "</div>"
      ],
      "text/plain": [
       "       Gender Married Dependents Education Self_Employed Property_Area  \\\n",
       "count     601     611        599       614           582           614   \n",
       "unique      2       2          4         2             2             3   \n",
       "top      Male     Yes          0  Graduate            No     Semiurban   \n",
       "freq      489     398        345       480           500           233   \n",
       "\n",
       "       Loan_Status  \n",
       "count          614  \n",
       "unique           2  \n",
       "top              Y  \n",
       "freq           422  "
      ]
     },
     "execution_count": 10,
     "metadata": {},
     "output_type": "execute_result"
    }
   ],
   "source": [
    "df.describe(include=object)"
   ]
  },
  {
   "cell_type": "markdown",
   "id": "ca6a7338",
   "metadata": {},
   "source": [
    "### Data Visualization"
   ]
  },
  {
   "cell_type": "code",
   "execution_count": 11,
   "id": "39870cd8",
   "metadata": {
    "scrolled": false
   },
   "outputs": [
    {
     "data": {
      "image/png": "[encoded data removed]",
      "text/plain": [
       "<Figure size 1656x504 with 5 Axes>"
      ]
     },
     "metadata": {
      "needs_background": "light"
     },
     "output_type": "display_data"
    }
   ],
   "source": [
    "# count plot\n",
    "plt.figure(figsize=(23,7))\n",
    "pn=1\n",
    "for i in ['Gender','Married','Education','Self_Employed','Loan_Status']:\n",
    "    if pn<=6:\n",
    "        ax=plt.subplot(1,5,pn)\n",
    "        sns.countplot(df[i])\n",
    "        plt.xlabel(i,fontsize=16)\n",
    "    pn+=1\n",
    "plt.show()"
   ]
  },
  {
   "cell_type": "code",
   "execution_count": 12,
   "id": "c46429f1",
   "metadata": {},
   "outputs": [
    {
     "data": {
      "image/png": "[encoded data removed]",
      "text/plain": [
       "<Figure size 432x288 with 1 Axes>"
      ]
     },
     "metadata": {
      "needs_background": "light"
     },
     "output_type": "display_data"
    }
   ],
   "source": [
    "# scatter plot\n",
    "sns.countplot(x='Loan_Amount_Term',data=df)\n",
    "plt.show()"
   ]
  },
  {
   "cell_type": "code",
   "execution_count": 13,
   "id": "8b7498bc",
   "metadata": {},
   "outputs": [
    {
     "data": {
      "image/png": "[encoded data removed]",
      "text/plain": [
       "<Figure size 432x288 with 1 Axes>"
      ]
     },
     "metadata": {
      "needs_background": "light"
     },
     "output_type": "display_data"
    }
   ],
   "source": [
    "# count plot\n",
    "sns.countplot(x='Dependents',hue='Loan_Status',data=df)\n",
    "plt.show()"
   ]
  },
  {
   "cell_type": "code",
   "execution_count": 14,
   "id": "2abff111",
   "metadata": {},
   "outputs": [
    {
     "data": {
      "image/png": "[encoded data removed]",
      "text/plain": [
       "<Figure size 432x288 with 1 Axes>"
      ]
     },
     "metadata": {
      "needs_background": "light"
     },
     "output_type": "display_data"
    }
   ],
   "source": [
    "# count plot\n",
    "sns.countplot(x='Education', hue='Loan_Status', data=df)\n",
    "plt.show()"
   ]
  },
  {
   "cell_type": "code",
   "execution_count": 15,
   "id": "6ee970bb",
   "metadata": {},
   "outputs": [
    {
     "data": {
      "image/png": "[encoded data removed]",
      "text/plain": [
       "<Figure size 432x288 with 1 Axes>"
      ]
     },
     "metadata": {
      "needs_background": "light"
     },
     "output_type": "display_data"
    }
   ],
   "source": [
    "# count plot\n",
    "sns.countplot(x='Self_Employed', hue='Loan_Status', data=df)\n",
    "plt.show()"
   ]
  },
  {
   "cell_type": "code",
   "execution_count": 16,
   "id": "e4a63100",
   "metadata": {},
   "outputs": [
    {
     "data": {
      "image/png": "[encoded data removed]",
      "text/plain": [
       "<Figure size 576x360 with 1 Axes>"
      ]
     },
     "metadata": {
      "needs_background": "light"
     },
     "output_type": "display_data"
    }
   ],
   "source": [
    "# count plot\n",
    "plt.figure(figsize=(8,5))\n",
    "sns.countplot(x='Loan_Amount_Term', hue='Loan_Status', data=df)\n",
    "plt.show()"
   ]
  },
  {
   "cell_type": "code",
   "execution_count": 17,
   "id": "3b1ced2b",
   "metadata": {},
   "outputs": [
    {
     "data": {
      "image/png": "[encoded data removed]",
      "text/plain": [
       "<Figure size 720x288 with 1 Axes>"
      ]
     },
     "metadata": {
      "needs_background": "light"
     },
     "output_type": "display_data"
    }
   ],
   "source": [
    "# strip plot Loan_Status vs ApplicantIncome\n",
    "plt.figure(figsize=(10,4))\n",
    "sns.stripplot(x='ApplicantIncome', y='Loan_Status', data=df)\n",
    "plt.show()"
   ]
  },
  {
   "cell_type": "code",
   "execution_count": 18,
   "id": "13f6fc74",
   "metadata": {},
   "outputs": [
    {
     "data": {
      "image/png": "[encoded data removed]",
      "text/plain": [
       "<Figure size 720x288 with 1 Axes>"
      ]
     },
     "metadata": {
      "needs_background": "light"
     },
     "output_type": "display_data"
    }
   ],
   "source": [
    "# strip plot CoapplicantIncome vs Loan_Status\n",
    "plt.figure(figsize=(10,4))\n",
    "sns.stripplot(x='CoapplicantIncome', y='Loan_Status', data=df)\n",
    "plt.show()"
   ]
  },
  {
   "cell_type": "code",
   "execution_count": 19,
   "id": "8cdfc3b9",
   "metadata": {},
   "outputs": [
    {
     "data": {
      "image/png": "[encoded data removed]",
      "text/plain": [
       "<Figure size 1008x288 with 1 Axes>"
      ]
     },
     "metadata": {
      "needs_background": "light"
     },
     "output_type": "display_data"
    }
   ],
   "source": [
    "# scatter plot\n",
    "plt.figure(figsize=(14,4))\n",
    "sns.scatterplot(x='LoanAmount', y='Property_Area',hue='Loan_Status', data=df)\n",
    "plt.show()"
   ]
  },
  {
   "cell_type": "code",
   "execution_count": 20,
   "id": "3dfd7d13",
   "metadata": {
    "scrolled": true
   },
   "outputs": [
    {
     "data": {
      "image/png": "[encoded data removed]",
      "text/plain": [
       "<Figure size 1008x360 with 1 Axes>"
      ]
     },
     "metadata": {
      "needs_background": "light"
     },
     "output_type": "display_data"
    }
   ],
   "source": [
    "# scatter plot\n",
    "plt.figure(figsize=(14,5))\n",
    "sns.scatterplot(x='ApplicantIncome', y='LoanAmount',hue='Loan_Status', data=df)\n",
    "plt.show()"
   ]
  },
  {
   "cell_type": "markdown",
   "id": "5a7321fb",
   "metadata": {},
   "source": [
    "Most of the applicants income is less 20,000."
   ]
  },
  {
   "cell_type": "code",
   "execution_count": 21,
   "id": "da5f4de4",
   "metadata": {},
   "outputs": [
    {
     "data": {
      "image/png": "[encoded data removed]",
      "text/plain": [
       "<Figure size 1008x360 with 1 Axes>"
      ]
     },
     "metadata": {
      "needs_background": "light"
     },
     "output_type": "display_data"
    }
   ],
   "source": [
    "plt.figure(figsize=(14,5))\n",
    "sns.scatterplot(x='LoanAmount', y='Loan_Amount_Term',hue='Loan_Status', data=df)\n",
    "plt.show()"
   ]
  },
  {
   "cell_type": "code",
   "execution_count": 22,
   "id": "2461d597",
   "metadata": {},
   "outputs": [
    {
     "data": {
      "image/png": "[encoded data removed]",
      "text/plain": [
       "<Figure size 1080x720 with 4 Axes>"
      ]
     },
     "metadata": {
      "needs_background": "light"
     },
     "output_type": "display_data"
    }
   ],
   "source": [
    "# distribution plot\n",
    "plt.figure(figsize=(15,10))\n",
    "pn=1\n",
    "for i in ['ApplicantIncome','CoapplicantIncome','LoanAmount','Loan_Amount_Term']:\n",
    "    if pn <=4:\n",
    "        ax = plt.subplot(2,2,pn)\n",
    "        sns.distplot(df[i],color='orange')\n",
    "        plt.xlabel(i,fontsize=16)\n",
    "    pn+=1\n",
    "plt.show()"
   ]
  },
  {
   "cell_type": "markdown",
   "id": "1006a152",
   "metadata": {},
   "source": [
    " ApplicantIncome, CoapplicantIncome and LoanAmount are right skewed distribution. Loan_Amount_Term is left skewed distribution"
   ]
  },
  {
   "cell_type": "code",
   "execution_count": 23,
   "id": "1ade5f6c",
   "metadata": {},
   "outputs": [
    {
     "data": {
      "text/html": [
       "<div>\n",
       "<style scoped>\n",
       "    .dataframe tbody tr th:only-of-type {\n",
       "        vertical-align: middle;\n",
       "    }\n",
       "\n",
       "    .dataframe tbody tr th {\n",
       "        vertical-align: top;\n",
       "    }\n",
       "\n",
       "    .dataframe thead th {\n",
       "        text-align: right;\n",
       "    }\n",
       "</style>\n",
       "<table border=\"1\" class=\"dataframe\">\n",
       "  <thead>\n",
       "    <tr style=\"text-align: right;\">\n",
       "      <th></th>\n",
       "      <th>ApplicantIncome</th>\n",
       "      <th>CoapplicantIncome</th>\n",
       "      <th>LoanAmount</th>\n",
       "      <th>Loan_Amount_Term</th>\n",
       "      <th>Credit_History</th>\n",
       "    </tr>\n",
       "  </thead>\n",
       "  <tbody>\n",
       "    <tr>\n",
       "      <th>ApplicantIncome</th>\n",
       "      <td>1.000000</td>\n",
       "      <td>-0.116605</td>\n",
       "      <td>0.570909</td>\n",
       "      <td>-0.045306</td>\n",
       "      <td>-0.014715</td>\n",
       "    </tr>\n",
       "    <tr>\n",
       "      <th>CoapplicantIncome</th>\n",
       "      <td>-0.116605</td>\n",
       "      <td>1.000000</td>\n",
       "      <td>0.188619</td>\n",
       "      <td>-0.059878</td>\n",
       "      <td>-0.002056</td>\n",
       "    </tr>\n",
       "    <tr>\n",
       "      <th>LoanAmount</th>\n",
       "      <td>0.570909</td>\n",
       "      <td>0.188619</td>\n",
       "      <td>1.000000</td>\n",
       "      <td>0.039447</td>\n",
       "      <td>-0.008433</td>\n",
       "    </tr>\n",
       "    <tr>\n",
       "      <th>Loan_Amount_Term</th>\n",
       "      <td>-0.045306</td>\n",
       "      <td>-0.059878</td>\n",
       "      <td>0.039447</td>\n",
       "      <td>1.000000</td>\n",
       "      <td>0.001470</td>\n",
       "    </tr>\n",
       "    <tr>\n",
       "      <th>Credit_History</th>\n",
       "      <td>-0.014715</td>\n",
       "      <td>-0.002056</td>\n",
       "      <td>-0.008433</td>\n",
       "      <td>0.001470</td>\n",
       "      <td>1.000000</td>\n",
       "    </tr>\n",
       "  </tbody>\n",
       "</table>\n",
       "</div>"
      ],
      "text/plain": [
       "                   ApplicantIncome  CoapplicantIncome  LoanAmount  \\\n",
       "ApplicantIncome           1.000000          -0.116605    0.570909   \n",
       "CoapplicantIncome        -0.116605           1.000000    0.188619   \n",
       "LoanAmount                0.570909           0.188619    1.000000   \n",
       "Loan_Amount_Term         -0.045306          -0.059878    0.039447   \n",
       "Credit_History           -0.014715          -0.002056   -0.008433   \n",
       "\n",
       "                   Loan_Amount_Term  Credit_History  \n",
       "ApplicantIncome           -0.045306       -0.014715  \n",
       "CoapplicantIncome         -0.059878       -0.002056  \n",
       "LoanAmount                 0.039447       -0.008433  \n",
       "Loan_Amount_Term           1.000000        0.001470  \n",
       "Credit_History             0.001470        1.000000  "
      ]
     },
     "execution_count": 23,
     "metadata": {},
     "output_type": "execute_result"
    }
   ],
   "source": [
    "# correlation\n",
    "df.corr()"
   ]
  },
  {
   "cell_type": "code",
   "execution_count": 24,
   "id": "79c933d1",
   "metadata": {},
   "outputs": [
    {
     "data": {
      "image/png": "[encoded data removed]",
      "text/plain": [
       "<Figure size 504x360 with 2 Axes>"
      ]
     },
     "metadata": {
      "needs_background": "light"
     },
     "output_type": "display_data"
    }
   ],
   "source": [
    "# heatmap\n",
    "plt.figure(figsize=(7,5))\n",
    "sns.heatmap(df.corr(),annot=True,fmt=\".2f\")\n",
    "plt.show()"
   ]
  },
  {
   "cell_type": "markdown",
   "id": "8b988687",
   "metadata": {},
   "source": [
    "Loan_Amount and ApplicantIncome have positive relationship."
   ]
  },
  {
   "cell_type": "code",
   "execution_count": 25,
   "id": "186747b2",
   "metadata": {},
   "outputs": [
    {
     "data": {
      "text/plain": [
       "Gender               0\n",
       "Married              0\n",
       "Dependents           0\n",
       "Education            0\n",
       "Self_Employed        0\n",
       "ApplicantIncome      0\n",
       "CoapplicantIncome    0\n",
       "LoanAmount           0\n",
       "Loan_Amount_Term     0\n",
       "Credit_History       0\n",
       "Property_Area        0\n",
       "Loan_Status          0\n",
       "dtype: int64"
      ]
     },
     "execution_count": 25,
     "metadata": {},
     "output_type": "execute_result"
    }
   ],
   "source": [
    "# dealing with null values\n",
    "# using mode\n",
    "df['Gender'].replace(np.nan,df['Gender'].mode()[0],inplace=True)\n",
    "df['Married'].replace(np.nan,df['Married'].mode()[0],inplace=True)\n",
    "df['Self_Employed'].replace(np.nan,df['Self_Employed'].mode()[0],inplace=True)\n",
    "df['Dependents'].replace(np.nan,df['Dependents'].mode()[0],inplace=True)\n",
    "df['Loan_Amount_Term'].replace(np.nan,df['Loan_Amount_Term'].mode()[0],inplace=True)\n",
    "df['Credit_History'].replace(np.nan,df['Credit_History'].mode()[0],inplace=True)\n",
    "\n",
    "# using mean\n",
    "df['LoanAmount'].replace(np.nan,df['LoanAmount'].mean(),inplace=True)\n",
    "df=df.round({'LoanAmount':1})\n",
    "# checking null values\n",
    "df.isnull().sum()"
   ]
  },
  {
   "cell_type": "markdown",
   "id": "1063821b",
   "metadata": {},
   "source": [
    "Now no null values present."
   ]
  },
  {
   "cell_type": "code",
   "execution_count": 26,
   "id": "03b2c031",
   "metadata": {},
   "outputs": [
    {
     "data": {
      "text/plain": [
       "ApplicantIncome      6.539513\n",
       "CoapplicantIncome    7.491531\n",
       "LoanAmount           2.726617\n",
       "Loan_Amount_Term    -2.402112\n",
       "Credit_History      -2.021971\n",
       "dtype: float64"
      ]
     },
     "execution_count": 26,
     "metadata": {},
     "output_type": "execute_result"
    }
   ],
   "source": [
    "# checking skewness\n",
    "df.skew()"
   ]
  },
  {
   "cell_type": "markdown",
   "id": "b0fe38b7",
   "metadata": {},
   "source": [
    "ApplicantIncome, CoapplicantIncome, LoanAmount and Loan_Amount_Term are skewed features. Since Credit_History column contains categorical data, we will not work on its skewness."
   ]
  },
  {
   "cell_type": "code",
   "execution_count": 27,
   "id": "6d872d69",
   "metadata": {},
   "outputs": [],
   "source": [
    "# skewed columns\n",
    "col=['ApplicantIncome','CoapplicantIncome','LoanAmount','Loan_Amount_Term']"
   ]
  },
  {
   "cell_type": "code",
   "execution_count": 28,
   "id": "fa543cb6",
   "metadata": {},
   "outputs": [
    {
     "data": {
      "text/plain": [
       "ApplicantIncome     -0.092946\n",
       "CoapplicantIncome   -0.145646\n",
       "LoanAmount           0.024374\n",
       "Loan_Amount_Term     0.392571\n",
       "Credit_History      -2.021971\n",
       "dtype: float64"
      ]
     },
     "execution_count": 28,
     "metadata": {},
     "output_type": "execute_result"
    }
   ],
   "source": [
    "# reducing skewness\n",
    "from sklearn.preprocessing import PowerTransformer\n",
    "pt = PowerTransformer()\n",
    "df[col]= pt.fit_transform(df[col])\n",
    "df.skew()"
   ]
  },
  {
   "cell_type": "markdown",
   "id": "4c420881",
   "metadata": {},
   "source": [
    "skewness is reduced. Now let's encode categorical variables."
   ]
  },
  {
   "cell_type": "code",
   "execution_count": 29,
   "id": "23524ea9",
   "metadata": {},
   "outputs": [
    {
     "name": "stdout",
     "output_type": "stream",
     "text": [
      "[array(['Female', 'Male'], dtype=object)]\n",
      "[array(['No', 'Yes'], dtype=object)]\n",
      "[array(['No', 'Yes'], dtype=object)]\n",
      "[array(['0', '1', '2', '3+'], dtype=object)]\n",
      "[array(['Graduate', 'Not Graduate'], dtype=object)]\n",
      "[array(['Rural', 'Semiurban', 'Urban'], dtype=object)]\n"
     ]
    }
   ],
   "source": [
    "# encoding categorical columns\n",
    "from sklearn.preprocessing import OneHotEncoder\n",
    "OHE = OneHotEncoder(sparse=False)\n",
    "for i in ['Gender','Married','Self_Employed','Dependents','Education','Property_Area']:\n",
    "    df[i] = OHE.fit_transform(df[i].values.reshape(-1,1))\n",
    "    print(OHE.categories_)"
   ]
  },
  {
   "cell_type": "code",
   "execution_count": 30,
   "id": "1e8aa63f",
   "metadata": {},
   "outputs": [
    {
     "data": {
      "text/html": [
       "<div>\n",
       "<style scoped>\n",
       "    .dataframe tbody tr th:only-of-type {\n",
       "        vertical-align: middle;\n",
       "    }\n",
       "\n",
       "    .dataframe tbody tr th {\n",
       "        vertical-align: top;\n",
       "    }\n",
       "\n",
       "    .dataframe thead th {\n",
       "        text-align: right;\n",
       "    }\n",
       "</style>\n",
       "<table border=\"1\" class=\"dataframe\">\n",
       "  <thead>\n",
       "    <tr style=\"text-align: right;\">\n",
       "      <th></th>\n",
       "      <th>Gender</th>\n",
       "      <th>Married</th>\n",
       "      <th>Dependents</th>\n",
       "      <th>Education</th>\n",
       "      <th>Self_Employed</th>\n",
       "      <th>ApplicantIncome</th>\n",
       "      <th>CoapplicantIncome</th>\n",
       "      <th>LoanAmount</th>\n",
       "      <th>Loan_Amount_Term</th>\n",
       "      <th>Credit_History</th>\n",
       "      <th>Property_Area</th>\n",
       "      <th>Loan_Status</th>\n",
       "    </tr>\n",
       "  </thead>\n",
       "  <tbody>\n",
       "    <tr>\n",
       "      <th>0</th>\n",
       "      <td>0.0</td>\n",
       "      <td>1.0</td>\n",
       "      <td>1.0</td>\n",
       "      <td>1.0</td>\n",
       "      <td>1.0</td>\n",
       "      <td>0.544331</td>\n",
       "      <td>-1.102837</td>\n",
       "      <td>0.235225</td>\n",
       "      <td>0.175540</td>\n",
       "      <td>1.0</td>\n",
       "      <td>0.0</td>\n",
       "      <td>Y</td>\n",
       "    </tr>\n",
       "    <tr>\n",
       "      <th>1</th>\n",
       "      <td>0.0</td>\n",
       "      <td>0.0</td>\n",
       "      <td>0.0</td>\n",
       "      <td>1.0</td>\n",
       "      <td>1.0</td>\n",
       "      <td>0.170974</td>\n",
       "      <td>0.750578</td>\n",
       "      <td>-0.037651</td>\n",
       "      <td>0.175540</td>\n",
       "      <td>1.0</td>\n",
       "      <td>1.0</td>\n",
       "      <td>N</td>\n",
       "    </tr>\n",
       "    <tr>\n",
       "      <th>2</th>\n",
       "      <td>0.0</td>\n",
       "      <td>0.0</td>\n",
       "      <td>1.0</td>\n",
       "      <td>1.0</td>\n",
       "      <td>0.0</td>\n",
       "      <td>-0.499955</td>\n",
       "      <td>-1.102837</td>\n",
       "      <td>-1.346302</td>\n",
       "      <td>0.175540</td>\n",
       "      <td>1.0</td>\n",
       "      <td>0.0</td>\n",
       "      <td>Y</td>\n",
       "    </tr>\n",
       "    <tr>\n",
       "      <th>3</th>\n",
       "      <td>0.0</td>\n",
       "      <td>0.0</td>\n",
       "      <td>1.0</td>\n",
       "      <td>0.0</td>\n",
       "      <td>1.0</td>\n",
       "      <td>-0.743873</td>\n",
       "      <td>0.891686</td>\n",
       "      <td>-0.167879</td>\n",
       "      <td>0.175540</td>\n",
       "      <td>1.0</td>\n",
       "      <td>0.0</td>\n",
       "      <td>Y</td>\n",
       "    </tr>\n",
       "    <tr>\n",
       "      <th>4</th>\n",
       "      <td>0.0</td>\n",
       "      <td>1.0</td>\n",
       "      <td>1.0</td>\n",
       "      <td>1.0</td>\n",
       "      <td>1.0</td>\n",
       "      <td>0.582817</td>\n",
       "      <td>-1.102837</td>\n",
       "      <td>0.158618</td>\n",
       "      <td>0.175540</td>\n",
       "      <td>1.0</td>\n",
       "      <td>0.0</td>\n",
       "      <td>Y</td>\n",
       "    </tr>\n",
       "    <tr>\n",
       "      <th>...</th>\n",
       "      <td>...</td>\n",
       "      <td>...</td>\n",
       "      <td>...</td>\n",
       "      <td>...</td>\n",
       "      <td>...</td>\n",
       "      <td>...</td>\n",
       "      <td>...</td>\n",
       "      <td>...</td>\n",
       "      <td>...</td>\n",
       "      <td>...</td>\n",
       "      <td>...</td>\n",
       "      <td>...</td>\n",
       "    </tr>\n",
       "    <tr>\n",
       "      <th>609</th>\n",
       "      <td>1.0</td>\n",
       "      <td>1.0</td>\n",
       "      <td>1.0</td>\n",
       "      <td>1.0</td>\n",
       "      <td>1.0</td>\n",
       "      <td>-0.554885</td>\n",
       "      <td>-1.102837</td>\n",
       "      <td>-1.205096</td>\n",
       "      <td>0.175540</td>\n",
       "      <td>1.0</td>\n",
       "      <td>1.0</td>\n",
       "      <td>Y</td>\n",
       "    </tr>\n",
       "    <tr>\n",
       "      <th>610</th>\n",
       "      <td>0.0</td>\n",
       "      <td>0.0</td>\n",
       "      <td>0.0</td>\n",
       "      <td>1.0</td>\n",
       "      <td>1.0</td>\n",
       "      <td>-0.000290</td>\n",
       "      <td>-1.102837</td>\n",
       "      <td>-2.293321</td>\n",
       "      <td>-2.312879</td>\n",
       "      <td>1.0</td>\n",
       "      <td>1.0</td>\n",
       "      <td>Y</td>\n",
       "    </tr>\n",
       "    <tr>\n",
       "      <th>611</th>\n",
       "      <td>0.0</td>\n",
       "      <td>0.0</td>\n",
       "      <td>0.0</td>\n",
       "      <td>1.0</td>\n",
       "      <td>1.0</td>\n",
       "      <td>1.023487</td>\n",
       "      <td>0.208603</td>\n",
       "      <td>1.372416</td>\n",
       "      <td>0.175540</td>\n",
       "      <td>1.0</td>\n",
       "      <td>0.0</td>\n",
       "      <td>Y</td>\n",
       "    </tr>\n",
       "    <tr>\n",
       "      <th>612</th>\n",
       "      <td>0.0</td>\n",
       "      <td>0.0</td>\n",
       "      <td>0.0</td>\n",
       "      <td>1.0</td>\n",
       "      <td>1.0</td>\n",
       "      <td>0.931750</td>\n",
       "      <td>-1.102837</td>\n",
       "      <td>0.738931</td>\n",
       "      <td>0.175540</td>\n",
       "      <td>1.0</td>\n",
       "      <td>0.0</td>\n",
       "      <td>Y</td>\n",
       "    </tr>\n",
       "    <tr>\n",
       "      <th>613</th>\n",
       "      <td>1.0</td>\n",
       "      <td>1.0</td>\n",
       "      <td>1.0</td>\n",
       "      <td>1.0</td>\n",
       "      <td>0.0</td>\n",
       "      <td>0.170974</td>\n",
       "      <td>-1.102837</td>\n",
       "      <td>0.039944</td>\n",
       "      <td>0.175540</td>\n",
       "      <td>0.0</td>\n",
       "      <td>0.0</td>\n",
       "      <td>N</td>\n",
       "    </tr>\n",
       "  </tbody>\n",
       "</table>\n",
       "<p>614 rows × 12 columns</p>\n",
       "</div>"
      ],
      "text/plain": [
       "     Gender  Married  Dependents  Education  Self_Employed  ApplicantIncome  \\\n",
       "0       0.0      1.0         1.0        1.0            1.0         0.544331   \n",
       "1       0.0      0.0         0.0        1.0            1.0         0.170974   \n",
       "2       0.0      0.0         1.0        1.0            0.0        -0.499955   \n",
       "3       0.0      0.0         1.0        0.0            1.0        -0.743873   \n",
       "4       0.0      1.0         1.0        1.0            1.0         0.582817   \n",
       "..      ...      ...         ...        ...            ...              ...   \n",
       "609     1.0      1.0         1.0        1.0            1.0        -0.554885   \n",
       "610     0.0      0.0         0.0        1.0            1.0        -0.000290   \n",
       "611     0.0      0.0         0.0        1.0            1.0         1.023487   \n",
       "612     0.0      0.0         0.0        1.0            1.0         0.931750   \n",
       "613     1.0      1.0         1.0        1.0            0.0         0.170974   \n",
       "\n",
       "     CoapplicantIncome  LoanAmount  Loan_Amount_Term  Credit_History  \\\n",
       "0            -1.102837    0.235225          0.175540             1.0   \n",
       "1             0.750578   -0.037651          0.175540             1.0   \n",
       "2            -1.102837   -1.346302          0.175540             1.0   \n",
       "3             0.891686   -0.167879          0.175540             1.0   \n",
       "4            -1.102837    0.158618          0.175540             1.0   \n",
       "..                 ...         ...               ...             ...   \n",
       "609          -1.102837   -1.205096          0.175540             1.0   \n",
       "610          -1.102837   -2.293321         -2.312879             1.0   \n",
       "611           0.208603    1.372416          0.175540             1.0   \n",
       "612          -1.102837    0.738931          0.175540             1.0   \n",
       "613          -1.102837    0.039944          0.175540             0.0   \n",
       "\n",
       "     Property_Area Loan_Status  \n",
       "0              0.0           Y  \n",
       "1              1.0           N  \n",
       "2              0.0           Y  \n",
       "3              0.0           Y  \n",
       "4              0.0           Y  \n",
       "..             ...         ...  \n",
       "609            1.0           Y  \n",
       "610            1.0           Y  \n",
       "611            0.0           Y  \n",
       "612            0.0           Y  \n",
       "613            0.0           N  \n",
       "\n",
       "[614 rows x 12 columns]"
      ]
     },
     "execution_count": 30,
     "metadata": {},
     "output_type": "execute_result"
    }
   ],
   "source": [
    "df"
   ]
  },
  {
   "cell_type": "code",
   "execution_count": 31,
   "id": "e9c50ca4",
   "metadata": {},
   "outputs": [],
   "source": [
    "# separating target variable and features\n",
    "x = df.drop(columns='Loan_Status')            # features\n",
    "y= df['Loan_Status']                          # target variable"
   ]
  },
  {
   "cell_type": "code",
   "execution_count": 32,
   "id": "c8a89014",
   "metadata": {},
   "outputs": [
    {
     "data": {
      "text/plain": [
       "0      1\n",
       "1      0\n",
       "2      1\n",
       "3      1\n",
       "4      1\n",
       "      ..\n",
       "609    1\n",
       "610    1\n",
       "611    1\n",
       "612    1\n",
       "613    0\n",
       "Name: Loan_Status, Length: 614, dtype: int64"
      ]
     },
     "execution_count": 32,
     "metadata": {},
     "output_type": "execute_result"
    }
   ],
   "source": [
    "# replacing values\n",
    "y = y.replace(['Y','N'],[1,0])\n",
    "y"
   ]
  },
  {
   "cell_type": "code",
   "execution_count": 33,
   "id": "752829ce",
   "metadata": {},
   "outputs": [
    {
     "data": {
      "text/plain": [
       "1    422\n",
       "0    192\n",
       "Name: Loan_Status, dtype: int64"
      ]
     },
     "execution_count": 33,
     "metadata": {},
     "output_type": "execute_result"
    }
   ],
   "source": [
    "# value count\n",
    "y.value_counts()"
   ]
  },
  {
   "cell_type": "code",
   "execution_count": 34,
   "id": "bac65f4f",
   "metadata": {},
   "outputs": [
    {
     "name": "stdout",
     "output_type": "stream",
     "text": [
      "(738, 11)\n",
      "(738,)\n"
     ]
    }
   ],
   "source": [
    "# balancing data\n",
    "from imblearn.over_sampling import SMOTE\n",
    "SM = SMOTE(sampling_strategy=0.75)\n",
    "x,y = SM.fit_resample(x,y)\n",
    "print(x.shape)\n",
    "print(y.shape)"
   ]
  },
  {
   "cell_type": "code",
   "execution_count": 35,
   "id": "e457c0fe",
   "metadata": {},
   "outputs": [
    {
     "data": {
      "text/plain": [
       "1    422\n",
       "0    316\n",
       "Name: Loan_Status, dtype: int64"
      ]
     },
     "execution_count": 35,
     "metadata": {},
     "output_type": "execute_result"
    }
   ],
   "source": [
    "y.value_counts()"
   ]
  },
  {
   "cell_type": "markdown",
   "id": "4d125436",
   "metadata": {},
   "source": [
    "#### Model"
   ]
  },
  {
   "cell_type": "code",
   "execution_count": 36,
   "id": "dac3fb5f",
   "metadata": {},
   "outputs": [],
   "source": [
    "# importing required libraries\n",
    "from sklearn.model_selection import train_test_split, cross_val_score, GridSearchCV\n",
    "from sklearn.metrics import accuracy_score, classification_report,roc_curve,confusion_matrix,auc,roc_auc_score\n",
    "from sklearn.ensemble import GradientBoostingClassifier,RandomForestClassifier,ExtraTreesClassifier,AdaBoostClassifier\n",
    "from sklearn.linear_model import LogisticRegression\n",
    "from sklearn.tree import DecisionTreeClassifier\n",
    "from sklearn.neighbors import KNeighborsClassifier\n",
    "from sklearn.svm import SVC"
   ]
  },
  {
   "cell_type": "code",
   "execution_count": 37,
   "id": "25dca67d",
   "metadata": {},
   "outputs": [],
   "source": [
    "# creating lists of models\n",
    "LR = LogisticRegression()\n",
    "RFC = RandomForestClassifier()\n",
    "ABC = AdaBoostClassifier()\n",
    "DTC = DecisionTreeClassifier()\n",
    "GBC = GradientBoostingClassifier()\n",
    "KNN = KNeighborsClassifier()\n",
    "ETC = ExtraTreesClassifier()\n",
    "svc = SVC()"
   ]
  },
  {
   "cell_type": "code",
   "execution_count": 38,
   "id": "6329cc1c",
   "metadata": {},
   "outputs": [],
   "source": [
    "# train-test split\n",
    "x_train,x_test,y_train,y_test = train_test_split(x,y,test_size=0.30, random_state=39)"
   ]
  },
  {
   "cell_type": "code",
   "execution_count": 39,
   "id": "c392d77a",
   "metadata": {},
   "outputs": [
    {
     "name": "stdout",
     "output_type": "stream",
     "text": [
      "Accuracy score = 0.7882882882882883 \n",
      "\n",
      "confusion matrix:-\n",
      " [[ 52  40]\n",
      " [  7 123]] \n",
      "\n",
      "classification report:-\n",
      "               precision    recall  f1-score   support\n",
      "\n",
      "           0       0.88      0.57      0.69        92\n",
      "           1       0.75      0.95      0.84       130\n",
      "\n",
      "    accuracy                           0.79       222\n",
      "   macro avg       0.82      0.76      0.76       222\n",
      "weighted avg       0.81      0.79      0.78       222\n",
      "\n",
      "checking Cross validation score:-\n",
      "\n",
      "cross validation scores:- [0.77027027 0.72972973 0.7027027  0.78378378 0.74324324 0.7972973\n",
      " 0.77027027 0.77027027 0.76712329 0.80821918] \n",
      "cross validation mean score = 0.7642910033320991 \n",
      "Difference between accuracy score and cross validation mean score = 2.3997284956189247\n"
     ]
    }
   ],
   "source": [
    "# LogisticRegression model \n",
    "LR.fit(x_train,y_train)\n",
    "y_pred=LR.predict(x_test)\n",
    "acc_score = accuracy_score(y_test,y_pred)\n",
    "CM = confusion_matrix(y_test,y_pred)\n",
    "CR = classification_report(y_test,y_pred)\n",
    "print('Accuracy score =',acc_score,'\\n\\nconfusion matrix:-\\n',CM,'\\n\\nclassification report:-\\n',CR)\n",
    "\n",
    "print('checking Cross validation score:-\\n')\n",
    "score_cv = cross_val_score(LR,x,y,cv=10)\n",
    "cv_mean = score_cv.mean()\n",
    "diff = (acc_score - cv_mean)*100\n",
    "print('cross validation scores:-',score_cv,'\\ncross validation mean score =',cv_mean,\n",
    "          '\\nDifference between accuracy score and cross validation mean score =',diff)"
   ]
  },
  {
   "cell_type": "code",
   "execution_count": 40,
   "id": "30fead23",
   "metadata": {},
   "outputs": [
    {
     "name": "stdout",
     "output_type": "stream",
     "text": [
      "Accuracy score = 0.8153153153153153 \n",
      "\n",
      "confusion matrix:-\n",
      " [[ 64  28]\n",
      " [ 13 117]] \n",
      "\n",
      "classification report:-\n",
      "               precision    recall  f1-score   support\n",
      "\n",
      "           0       0.83      0.70      0.76        92\n",
      "           1       0.81      0.90      0.85       130\n",
      "\n",
      "    accuracy                           0.82       222\n",
      "   macro avg       0.82      0.80      0.80       222\n",
      "weighted avg       0.82      0.82      0.81       222\n",
      "\n",
      "checking Cross validation score:-\n",
      "\n",
      "cross validation scores:- [0.81081081 0.74324324 0.7027027  0.7972973  0.81081081 0.75675676\n",
      " 0.87837838 0.85135135 0.87671233 0.93150685] \n",
      "cross validation mean score = 0.8159570529433543 \n",
      "Difference between accuracy score and cross validation mean score = -0.06417376280389853\n"
     ]
    }
   ],
   "source": [
    "# RandomForestClassifier model\n",
    "RFC.fit(x_train,y_train)\n",
    "y_pred=RFC.predict(x_test)\n",
    "acc_score = accuracy_score(y_test,y_pred)\n",
    "CM = confusion_matrix(y_test,y_pred)\n",
    "CR = classification_report(y_test,y_pred)\n",
    "print('Accuracy score =',acc_score,'\\n\\nconfusion matrix:-\\n',CM,'\\n\\nclassification report:-\\n',CR)\n",
    "\n",
    "print('checking Cross validation score:-\\n')\n",
    "score_cv = cross_val_score(RFC,x,y,cv=10)\n",
    "cv_mean = score_cv.mean()\n",
    "diff = (acc_score - cv_mean)*100\n",
    "print('cross validation scores:-',score_cv,'\\ncross validation mean score =',cv_mean,\n",
    "          '\\nDifference between accuracy score and cross validation mean score =',diff)"
   ]
  },
  {
   "cell_type": "code",
   "execution_count": 41,
   "id": "89a37674",
   "metadata": {},
   "outputs": [
    {
     "name": "stdout",
     "output_type": "stream",
     "text": [
      "Accuracy score = 0.8108108108108109 \n",
      "\n",
      "confusion matrix:-\n",
      " [[ 60  32]\n",
      " [ 10 120]] \n",
      "\n",
      "classification report:-\n",
      "               precision    recall  f1-score   support\n",
      "\n",
      "           0       0.86      0.65      0.74        92\n",
      "           1       0.79      0.92      0.85       130\n",
      "\n",
      "    accuracy                           0.81       222\n",
      "   macro avg       0.82      0.79      0.80       222\n",
      "weighted avg       0.82      0.81      0.81       222\n",
      "\n",
      "checking Cross validation score:-\n",
      "\n",
      "cross validation scores:- [0.74324324 0.72972973 0.67567568 0.77027027 0.77027027 0.77027027\n",
      " 0.83783784 0.87837838 0.82191781 0.93150685] \n",
      "cross validation mean score = 0.7929100333209922 \n",
      "Difference between accuracy score and cross validation mean score = 1.7900777489818664\n"
     ]
    }
   ],
   "source": [
    "# GradientBoostingClassifier model\n",
    "GBC.fit(x_train,y_train)\n",
    "y_pred=GBC.predict(x_test)\n",
    "acc_score = accuracy_score(y_test,y_pred)\n",
    "CM = confusion_matrix(y_test,y_pred)\n",
    "CR = classification_report(y_test,y_pred)\n",
    "print('Accuracy score =',acc_score,'\\n\\nconfusion matrix:-\\n',CM,'\\n\\nclassification report:-\\n',CR)\n",
    "\n",
    "print('checking Cross validation score:-\\n')\n",
    "score_cv = cross_val_score(GBC,x,y,cv=10)\n",
    "cv_mean = score_cv.mean()\n",
    "diff = (acc_score - cv_mean)*100\n",
    "print('cross validation scores:-',score_cv,'\\ncross validation mean score =',cv_mean,\n",
    "          '\\nDifference between accuracy score and cross validation mean score =',diff)"
   ]
  },
  {
   "cell_type": "code",
   "execution_count": 42,
   "id": "c314e050",
   "metadata": {},
   "outputs": [
    {
     "name": "stdout",
     "output_type": "stream",
     "text": [
      "Accuracy score = 0.7342342342342343 \n",
      "\n",
      "confusion matrix:-\n",
      " [[ 53  39]\n",
      " [ 20 110]] \n",
      "\n",
      "classification report:-\n",
      "               precision    recall  f1-score   support\n",
      "\n",
      "           0       0.73      0.58      0.64        92\n",
      "           1       0.74      0.85      0.79       130\n",
      "\n",
      "    accuracy                           0.73       222\n",
      "   macro avg       0.73      0.71      0.72       222\n",
      "weighted avg       0.73      0.73      0.73       222\n",
      "\n",
      "checking Cross validation score:-\n",
      "\n",
      "cross validation scores:- [0.78378378 0.66216216 0.67567568 0.67567568 0.78378378 0.66216216\n",
      " 0.71621622 0.71621622 0.80821918 0.7260274 ] \n",
      "cross validation mean score = 0.7209922251018142 \n",
      "Difference between accuracy score and cross validation mean score = 1.324200913242013\n"
     ]
    }
   ],
   "source": [
    "# KNeighborsClassifier model\n",
    "KNN.fit(x_train,y_train)\n",
    "y_pred=KNN.predict(x_test)\n",
    "acc_score = accuracy_score(y_test,y_pred)\n",
    "CM = confusion_matrix(y_test,y_pred)\n",
    "CR = classification_report(y_test,y_pred)\n",
    "print('Accuracy score =',acc_score,'\\n\\nconfusion matrix:-\\n',CM,'\\n\\nclassification report:-\\n',CR)\n",
    "\n",
    "print('checking Cross validation score:-\\n')\n",
    "score_cv = cross_val_score(KNN,x,y,cv=10)\n",
    "cv_mean = score_cv.mean()\n",
    "diff = (acc_score - cv_mean)*100\n",
    "print('cross validation scores:-',score_cv,'\\ncross validation mean score =',cv_mean,\n",
    "          '\\nDifference between accuracy score and cross validation mean score =',diff)"
   ]
  },
  {
   "cell_type": "code",
   "execution_count": 43,
   "id": "0960525b",
   "metadata": {},
   "outputs": [
    {
     "name": "stdout",
     "output_type": "stream",
     "text": [
      "Accuracy score = 0.7927927927927928 \n",
      "\n",
      "confusion matrix:-\n",
      " [[ 61  31]\n",
      " [ 15 115]] \n",
      "\n",
      "classification report:-\n",
      "               precision    recall  f1-score   support\n",
      "\n",
      "           0       0.80      0.66      0.73        92\n",
      "           1       0.79      0.88      0.83       130\n",
      "\n",
      "    accuracy                           0.79       222\n",
      "   macro avg       0.80      0.77      0.78       222\n",
      "weighted avg       0.79      0.79      0.79       222\n",
      "\n",
      "checking Cross validation score:-\n",
      "\n",
      "cross validation scores:- [0.77027027 0.71621622 0.63513514 0.75675676 0.77027027 0.82432432\n",
      " 0.7972973  0.78378378 0.71232877 0.80821918] \n",
      "cross validation mean score = 0.7574601999259534 \n",
      "Difference between accuracy score and cross validation mean score = 3.533259286683943\n"
     ]
    }
   ],
   "source": [
    "# AdaBoostClassifier model\n",
    "ABC.fit(x_train,y_train)\n",
    "y_pred=ABC.predict(x_test)\n",
    "acc_score = accuracy_score(y_test,y_pred)\n",
    "CM = confusion_matrix(y_test,y_pred)\n",
    "CR = classification_report(y_test,y_pred)\n",
    "print('Accuracy score =',acc_score,'\\n\\nconfusion matrix:-\\n',CM,'\\n\\nclassification report:-\\n',CR)\n",
    "\n",
    "print('checking Cross validation score:-\\n')\n",
    "score_cv = cross_val_score(ABC,x,y,cv=10)\n",
    "cv_mean = score_cv.mean()\n",
    "diff = (acc_score - cv_mean)*100\n",
    "print('cross validation scores:-',score_cv,'\\ncross validation mean score =',cv_mean,\n",
    "          '\\nDifference between accuracy score and cross validation mean score =',diff)"
   ]
  },
  {
   "cell_type": "code",
   "execution_count": 44,
   "id": "f920ea76",
   "metadata": {},
   "outputs": [
    {
     "name": "stdout",
     "output_type": "stream",
     "text": [
      "Accuracy score = 0.8198198198198198 \n",
      "\n",
      "confusion matrix:-\n",
      " [[ 65  27]\n",
      " [ 13 117]] \n",
      "\n",
      "classification report:-\n",
      "               precision    recall  f1-score   support\n",
      "\n",
      "           0       0.83      0.71      0.76        92\n",
      "           1       0.81      0.90      0.85       130\n",
      "\n",
      "    accuracy                           0.82       222\n",
      "   macro avg       0.82      0.80      0.81       222\n",
      "weighted avg       0.82      0.82      0.82       222\n",
      "\n",
      "checking Cross validation score:-\n",
      "\n",
      "cross validation scores:- [0.77027027 0.72972973 0.68918919 0.78378378 0.81081081 0.72972973\n",
      " 0.86486486 0.85135135 0.90410959 0.90410959] \n",
      "cross validation mean score = 0.8037948907811922 \n",
      "Difference between accuracy score and cross validation mean score = 1.6024929038627622\n"
     ]
    }
   ],
   "source": [
    "# ExtraTreesclassifier model\n",
    "ETC.fit(x_train,y_train)\n",
    "y_pred=ETC.predict(x_test)\n",
    "acc_score = accuracy_score(y_test,y_pred)\n",
    "CM = confusion_matrix(y_test,y_pred)\n",
    "CR = classification_report(y_test,y_pred)\n",
    "print('Accuracy score =',acc_score,'\\n\\nconfusion matrix:-\\n',CM,'\\n\\nclassification report:-\\n',CR)\n",
    "\n",
    "print('checking Cross validation score:-\\n')\n",
    "score_cv = cross_val_score(ETC,x,y,cv=10)\n",
    "cv_mean = score_cv.mean()\n",
    "diff = (acc_score - cv_mean)*100\n",
    "print('cross validation scores:-',score_cv,'\\ncross validation mean score =',cv_mean,\n",
    "          '\\nDifference between accuracy score and cross validation mean score =',diff)"
   ]
  },
  {
   "cell_type": "code",
   "execution_count": 45,
   "id": "e90bc341",
   "metadata": {},
   "outputs": [
    {
     "name": "stdout",
     "output_type": "stream",
     "text": [
      "Accuracy score = 0.7342342342342343 \n",
      "\n",
      "confusion matrix:-\n",
      " [[70 22]\n",
      " [37 93]] \n",
      "\n",
      "classification report:-\n",
      "               precision    recall  f1-score   support\n",
      "\n",
      "           0       0.65      0.76      0.70        92\n",
      "           1       0.81      0.72      0.76       130\n",
      "\n",
      "    accuracy                           0.73       222\n",
      "   macro avg       0.73      0.74      0.73       222\n",
      "weighted avg       0.74      0.73      0.74       222\n",
      "\n",
      "checking Cross validation score:-\n",
      "\n",
      "cross validation scores:- [0.67567568 0.72972973 0.58108108 0.77027027 0.75675676 0.74324324\n",
      " 0.87837838 0.74324324 0.73972603 0.73972603] \n",
      "cross validation mean score = 0.7357830433172899 \n",
      "Difference between accuracy score and cross validation mean score = -0.15488090830556578\n"
     ]
    }
   ],
   "source": [
    "# DecisionTreeClassifier model\n",
    "DTC.fit(x_train,y_train)\n",
    "y_pred=DTC.predict(x_test)\n",
    "acc_score = accuracy_score(y_test,y_pred)\n",
    "CM = confusion_matrix(y_test,y_pred)\n",
    "CR = classification_report(y_test,y_pred)\n",
    "print('Accuracy score =',acc_score,'\\n\\nconfusion matrix:-\\n',CM,'\\n\\nclassification report:-\\n',CR)\n",
    "\n",
    "print('checking Cross validation score:-\\n')\n",
    "score_cv = cross_val_score(DTC,x,y,cv=10)\n",
    "cv_mean = score_cv.mean()\n",
    "diff = (acc_score - cv_mean)*100\n",
    "print('cross validation scores:-',score_cv,'\\ncross validation mean score =',cv_mean,\n",
    "          '\\nDifference between accuracy score and cross validation mean score =',diff)"
   ]
  },
  {
   "cell_type": "code",
   "execution_count": 46,
   "id": "e6c161d2",
   "metadata": {},
   "outputs": [
    {
     "name": "stdout",
     "output_type": "stream",
     "text": [
      "Accuracy score = 0.7927927927927928 \n",
      "\n",
      "confusion matrix:-\n",
      " [[ 51  41]\n",
      " [  5 125]] \n",
      "\n",
      "classification report:-\n",
      "               precision    recall  f1-score   support\n",
      "\n",
      "           0       0.91      0.55      0.69        92\n",
      "           1       0.75      0.96      0.84       130\n",
      "\n",
      "    accuracy                           0.79       222\n",
      "   macro avg       0.83      0.76      0.77       222\n",
      "weighted avg       0.82      0.79      0.78       222\n",
      "\n",
      "checking Cross validation score:-\n",
      "\n",
      "cross validation scores:- [0.78378378 0.7027027  0.71621622 0.75675676 0.77027027 0.77027027\n",
      " 0.78378378 0.75675676 0.73972603 0.78082192] \n",
      "cross validation mean score = 0.756108848574602 \n",
      "Difference between accuracy score and cross validation mean score = 3.6683944218190767\n"
     ]
    }
   ],
   "source": [
    "# Support vector Machines model\n",
    "svc.fit(x_train,y_train)\n",
    "y_pred=svc.predict(x_test)\n",
    "acc_score = accuracy_score(y_test,y_pred)\n",
    "CM = confusion_matrix(y_test,y_pred)\n",
    "CR = classification_report(y_test,y_pred)\n",
    "print('Accuracy score =',acc_score,'\\n\\nconfusion matrix:-\\n',CM,'\\n\\nclassification report:-\\n',CR)\n",
    "\n",
    "print('checking Cross validation score:-\\n')\n",
    "score_cv = cross_val_score(svc,x,y,cv=10)\n",
    "cv_mean = score_cv.mean()\n",
    "diff = (acc_score - cv_mean)*100\n",
    "print('cross validation scores:-',score_cv,'\\ncross validation mean score =',cv_mean,\n",
    "          '\\nDifference between accuracy score and cross validation mean score =',diff)"
   ]
  },
  {
   "cell_type": "markdown",
   "id": "c629541e",
   "metadata": {},
   "source": [
    "Our best is KNeighborsClassifier. It has least difference between accuracy score and cross validation mean score."
   ]
  },
  {
   "cell_type": "markdown",
   "id": "42d35ef7",
   "metadata": {},
   "source": [
    "### Hyperparameter tuning"
   ]
  },
  {
   "cell_type": "code",
   "execution_count": 47,
   "id": "3e575150",
   "metadata": {},
   "outputs": [
    {
     "data": {
      "text/plain": [
       "GridSearchCV(cv=5, estimator=KNeighborsClassifier(),\n",
       "             param_grid={'algorithm': ['auto', 'ball_tree', 'kd_tree', 'brute'],\n",
       "                         'leaf_size': [33, 35, 40], 'n_jobs': [-2, -1, 1],\n",
       "                         'n_neighbors': [3, 5, 7]})"
      ]
     },
     "execution_count": 47,
     "metadata": {},
     "output_type": "execute_result"
    }
   ],
   "source": [
    "# parameters for KNN models\n",
    "param = {'n_neighbors':[3,5,7],\n",
    "         'algorithm':['auto','ball_tree','kd_tree','brute'],\n",
    "         'leaf_size':[33,35,40],\n",
    "         'n_jobs':[-2,-1,1]\n",
    "          }\n",
    "\n",
    "GSCV= GridSearchCV(estimator=KNN,param_grid=param,cv=5)\n",
    "GSCV.fit(x_train,y_train)"
   ]
  },
  {
   "cell_type": "code",
   "execution_count": 48,
   "id": "e171c22a",
   "metadata": {},
   "outputs": [
    {
     "data": {
      "text/plain": [
       "{'algorithm': 'auto', 'leaf_size': 33, 'n_jobs': -2, 'n_neighbors': 3}"
      ]
     },
     "execution_count": 48,
     "metadata": {},
     "output_type": "execute_result"
    }
   ],
   "source": [
    "# finding best parameter value\n",
    "GSCV.best_params_"
   ]
  },
  {
   "cell_type": "code",
   "execution_count": 49,
   "id": "2f98b91b",
   "metadata": {},
   "outputs": [],
   "source": [
    "# using best parameter value\n",
    "Model = KNeighborsClassifier(n_neighbors=3,algorithm='auto',leaf_size=33,n_jobs=-2)"
   ]
  },
  {
   "cell_type": "code",
   "execution_count": 50,
   "id": "41b58b80",
   "metadata": {},
   "outputs": [
    {
     "name": "stdout",
     "output_type": "stream",
     "text": [
      "Accuracy score = 0.7612612612612613 \n",
      "\n",
      "confusion matrix:-\n",
      " [[ 59  33]\n",
      " [ 20 110]] \n",
      "\n",
      "classification report:-\n",
      "               precision    recall  f1-score   support\n",
      "\n",
      "           0       0.75      0.64      0.69        92\n",
      "           1       0.77      0.85      0.81       130\n",
      "\n",
      "    accuracy                           0.76       222\n",
      "   macro avg       0.76      0.74      0.75       222\n",
      "weighted avg       0.76      0.76      0.76       222\n",
      "\n"
     ]
    }
   ],
   "source": [
    "# final model\n",
    "Model.fit(x_train,y_train)\n",
    "y_pred=Model.predict(x_test)\n",
    "acc_score = accuracy_score(y_test,y_pred)\n",
    "CM = confusion_matrix(y_test,y_pred)\n",
    "CR = classification_report(y_test,y_pred)\n",
    "print('Accuracy score =',acc_score,'\\n\\nconfusion matrix:-\\n',CM,'\\n\\nclassification report:-\\n',CR)"
   ]
  },
  {
   "cell_type": "markdown",
   "id": "f91f1f9b",
   "metadata": {},
   "source": [
    "Accuracy score is 76.12%. Before tuning the model it was 73.42%."
   ]
  },
  {
   "cell_type": "code",
   "execution_count": 51,
   "id": "5afd0ea9",
   "metadata": {},
   "outputs": [
    {
     "name": "stdout",
     "output_type": "stream",
     "text": [
      "Threshold= [2 1 0] \n",
      "False positive rate= [0.         0.35869565 1.        ] \n",
      "True positive rate= [0.         0.84615385 1.        ]\n"
     ]
    }
   ],
   "source": [
    "# ROC curve\n",
    "fpr,tpr,threshold =roc_curve(y_test,y_pred)\n",
    "print('Threshold=',threshold,'\\nFalse positive rate=',fpr,'\\nTrue positive rate=',tpr)"
   ]
  },
  {
   "cell_type": "code",
   "execution_count": 52,
   "id": "42e9596c",
   "metadata": {},
   "outputs": [
    {
     "data": {
      "image/png": "[encoded data removed]",
      "text/plain": [
       "<Figure size 432x288 with 1 Axes>"
      ]
     },
     "metadata": {
      "needs_background": "light"
     },
     "output_type": "display_data"
    }
   ],
   "source": [
    "# plotting roc curve\n",
    "plt.plot(fpr,tpr,color='red', label ='ROC')\n",
    "plt.plot([0,1],[0,1], color = 'blue',linestyle='--')\n",
    "plt.xlabel('False positive rate')\n",
    "plt.ylabel('True positive rate')\n",
    "plt.title('ROC Curve')\n",
    "plt.legend()\n",
    "plt.show()"
   ]
  },
  {
   "cell_type": "code",
   "execution_count": 53,
   "id": "3b0d33ad",
   "metadata": {},
   "outputs": [
    {
     "name": "stdout",
     "output_type": "stream",
     "text": [
      "0.7437290969899666\n"
     ]
    }
   ],
   "source": [
    "# AUC score\n",
    "auc_score =roc_auc_score(y_test,y_pred)\n",
    "print(auc_score)"
   ]
  },
  {
   "cell_type": "code",
   "execution_count": 54,
   "id": "4cc70fa8",
   "metadata": {},
   "outputs": [],
   "source": [
    "# saving model\n",
    "import pickle\n",
    "pickle.dump(Model,open('Loan status prediction','wb'))"
   ]
  },
  {
   "cell_type": "code",
   "execution_count": null,
   "id": "8e84ab11",
   "metadata": {},
   "outputs": [],
   "source": []
  }
 ],
 "metadata": {
  "kernelspec": {
   "display_name": "Python 3 (ipykernel)",
   "language": "python",
   "name": "python3"
  },
  "language_info": {
   "codemirror_mode": {
    "name": "ipython",
    "version": 3
   },
   "file_extension": ".py",
   "mimetype": "text/x-python",
   "name": "python",
   "nbconvert_exporter": "python",
   "pygments_lexer": "ipython3",
   "version": "3.9.12"
  }
 },
 "nbformat": 4,
 "nbformat_minor": 5
}
